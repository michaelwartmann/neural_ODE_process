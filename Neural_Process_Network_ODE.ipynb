{
  "nbformat": 4,
  "nbformat_minor": 0,
  "metadata": {
    "kernelspec": {
      "display_name": "Python 3",
      "language": "python",
      "name": "python3"
    },
    "language_info": {
      "codemirror_mode": {
        "name": "ipython",
        "version": 3
      },
      "file_extension": ".py",
      "mimetype": "text/x-python",
      "name": "python",
      "nbconvert_exporter": "python",
      "pygments_lexer": "ipython3",
      "version": "3.7.3"
    },
    "colab": {
      "name": "Neural Process Network ODE.ipynb",
      "provenance": []
    }
  },
  "cells": [
    {
      "cell_type": "markdown",
      "metadata": {
        "id": "RbvPFSPlR6lw",
        "colab_type": "text"
      },
      "source": [
        "# A small process network modeled through neural ordinary differential equations"
      ]
    },
    {
      "cell_type": "markdown",
      "metadata": {
        "id": "XjUp_JJjR6lz",
        "colab_type": "text"
      },
      "source": [
        "Most recent advances in the machine learning domain pose the challenge of how to naturally integrate new data-driven methods with classical process models and control. We propose a process modeling framework enabling integration of data-driven algorithms through consistent topological properties and conservation of extensive quantities. Interconnections among process network units are represented through connectivity matrices and network graphs. We derive the system's natural objective function equivalent to the non-equilibrium entropy production in a steady state system as a driving force for the process dynamics. We illustrate how distributed control and optimization can be implemented into process network structures and how control laws and algorithms alter the system's natural equilibrium towards engineered objectives. The basic requirement is that the flow conditions can be expressed in terms of conic sector (passivity) conditions. Our formalism allows integration of fundamental conservation properties from topology with learned dynamic relations from data through machine learning type algorithms.\n",
        "\n",
        "We demonstrate in a practical example of a simple inventory control system in form of a pipeline network how to integrate the basic topology of a process with a neural network ordinary differential equation model. The system specific constitutive equations are left undescribed and learned by the deep neural network using the adjoint method in combination with an adaptive ODE solver from synthetic time-series data. The resulting neural network forms a state space model for use in a model predictive control algorithm."
      ]
    },
    {
      "cell_type": "markdown",
      "metadata": {
        "id": "b3xTjB3xR6l0",
        "colab_type": "text"
      },
      "source": [
        "A small pipeline network example shows how a consistent neural network based model can be derived in which the topology and conservation laws are embedded in the neural network. The network consists of two connected pipelines where each pipeline flows through a cylindrical storage tank with volume $V_{j}$ open to the atmosphere, as shown in the figure below. A reference node is introduced representing the environment and connected to the terminals and dynamic nodes."
      ]
    },
    {
      "cell_type": "markdown",
      "metadata": {
        "id": "JyMGfwrxR6l1",
        "colab_type": "text"
      },
      "source": [
        "<img src=figures/pipeflow2.jpg width=600></img>"
      ]
    },
    {
      "cell_type": "markdown",
      "metadata": {
        "id": "u-kLCN5VR6l2",
        "colab_type": "text"
      },
      "source": [
        "Each pipeline's cross section is cylindrical with area $A_{i}$. The pipeline flow is given as a lumped parameter representation introducing pressure potentials $p_{j}$ at the nodes and assuming laminar flow ($Re < 2300$). It is assumed that the fluid shows Newtonian behavior as well as being incompressible ($\\rho =$ const.). Therefore, the relation between volumetric flow $ \\dot{V_{i}}$ and pressure drop $\\Delta p_{i} = p_{j}-p_{j+1}$ can be modeled using Hagen-Poiseuille's law $ \\dot{V_{i}} = \\frac{\\pi r_{i}^4}{8 \\mu L_{i}} \\Delta p_{i}$, where $r_{i}$ is the radius of the pipeline's cross-section and $L_{i}$ is the length of pipeline $i$. The potential at the bottom of the tank is given as $p_{j} = \\rho g h_{j} + p_{atm} $ by hydrostatics. The fluid volume $V_{j}$ in the tank is connected to the level $h_{j}$ through $V_{j} = A_{j} h_{j}$ where $A_{j}$ is the cross-section of the tank. We complete the model with the conservation laws for mass or, for constant density, the conservation of volume: \n",
        "\n",
        "$$\n",
        "d{V}_{1}/dt = \\dot{V}_{1}^{IN}- \\dot{V}_{1}^{OUT} \n",
        "$$\n",
        "\n",
        "$$\n",
        "d{V}_{2}/dt = \\dot{V}_{2}^{IN}- \\dot{V}_{2}^{OUT}\n",
        "$$\n",
        "\n",
        "$$\n",
        "\\dot{V}_{T1} = \\dot{V}_{2}^{IN} + \\dot{V}_{2}^{IN}\n",
        "$$\n",
        "\n",
        "$$\n",
        "\\dot{V}_{T2} = \\dot{V}_{2}^{OUT} + \\dot{V}_{2}^{OUT}\n",
        "$$\n",
        "Initial conditions for the tank volumes $V_{0,i}$ have to be specified as well as boundary conditions at the terminals. \n",
        "\n",
        "For each terminal, one boundary condition has to be specified which can be chosen freely ($p_{T1}=$ 3.0 bar, $p_{T2}=$ 1.013 bar). The parameters are given as $d =$ 0.5 m and $L_{1} =$ 2500 m for the upper pipeline segments and $L_{2} =$ 5000 m for the lower segments. The tanks' cross-sectional diameter is chosen as $d_{1} = d_{2}=$ 2 m. We chose the initial conditions for $p_{0,1}= p_{0,2}=$ X bar.\n",
        "\n",
        "If all equations are combined, the resulting ODE can be given as\n",
        "\n",
        "\n",
        "$$\n",
        " \\frac{A_{1}}{\\rho g} d{p}_{1}/dt = \\frac{\\pi r_{1,IN}^{4}}{8 \\eta L_{1}^{IN}}(p_{T1}- p_{1}) - \\frac{\\pi r_{1,OUT}^{4}}{8 \\eta L_{1}^{OUT}}(p_{1}- p_{T2})\n",
        "$$\n",
        "\n",
        "$$\n",
        " \\frac{A_{2}}{\\rho g} d{p}_{2}/dt = \\frac{\\pi r_{2,IN}^{4}}{8 \\eta L_{2}^{IN}}(p_{T1}- p_{2}) - \\frac{\\pi r_{2,OUT}^{4}}{8 \\eta L_{2}^{OUT}}(p_{2}- p_{T2})\n",
        "$$\n",
        "\n",
        "with boundary conditions at the terminals of $p_{T1}$, $p_{T2}=$ const and initial conditions $p_{0,1}$ and $p_{0,2}$\n",
        "\n"
      ]
    },
    {
      "cell_type": "markdown",
      "metadata": {
        "id": "sdeD_ry6R6l3",
        "colab_type": "text"
      },
      "source": [
        "Below is a table of parameters for the simulation and neural network modeling.\n",
        "\n",
        "\n",
        "| Quantity | Symbol | Value | Units | Comments |\n",
        "| :------- | :----: | :---: | :---- | |\n",
        "| diameter | $d$ | 0.5 | m | |\n",
        "| cross-section tank | $A$ | 2 | m | |\n",
        "| pipeline length | $L_1^{IN,OUT}$ | 2500 | m | |\n",
        "| pipeline length | $L_2^{IN,OUT}$ | 5000 | m | |\n",
        "| inflow pressure | $p_{T1}$ | 3 | bar | |\n",
        "| inflow pressure | $p_{T2}$ | 1.013 | bar | |\n",
        "| Density | $\\rho$ | 1000 | kg/m3 | |\n",
        "| dynamic viscosity | $\\mu$ | $8.9x10^{-4}$ | Pa s | |\n"
      ]
    },
    {
      "cell_type": "markdown",
      "metadata": {
        "id": "lS1cvAeJR6l4",
        "colab_type": "text"
      },
      "source": [
        "We assume that the pipeline network above is a process for which only limited information is given. We know the structure of the process such has how the topology looks like but we do not know the individual parameters. We can measure the boundary conditions and the states of the process, here, we can measure the level of the tank and calculate the bottom pressure. The parameters of the unknown ODE and some (noisy) observations can be observed along its trajectory\n",
        "\n",
        "$$\n",
        "\\frac{dz}{dt} = f(z(t), t) \\tag{1}\n",
        "$$\n",
        "$$\n",
        "\\{(z_0, t_0),(z_1, t_1),...,(z_M, t_M)\\} - \\text{observations}\n",
        "$$\n",
        "\n",
        "\n"
      ]
    },
    {
      "cell_type": "markdown",
      "metadata": {
        "id": "9uTOuIJqR6l5",
        "colab_type": "text"
      },
      "source": [
        "First, consider a somewhat simpler task: there are only 2 observations, at the beginning and at the end of the trajectory, $(z_0, t_0), (z_1, t_1)$. One starts the evolution of the system from $z_0, t_0$ for time $t_1 - t_0$ with some parameterized dynamics function using any ODE initial value solver. After that, one ends up being at some new state $\\hat{z_1}, t_1$, compares it with the observation $z_1$, and tries to minimize the difference by varying the parameters $\\theta$.\n",
        "\n",
        "Or, more formally, consider optimizing the following loss function $L(\\hat{z_1})$:"
      ]
    },
    {
      "cell_type": "markdown",
      "metadata": {
        "id": "MRU07ze-R6l6",
        "colab_type": "text"
      },
      "source": [
        "$$\n",
        "L(z(t_1)) = L \\Big( \\int_{t_0}^{t_1} f(z(t), t, \\theta)dt \\Big) = L \\big( \\text{ODESolve}(z(t_0), f, t_0, t_1, \\theta) \\big) \\tag{2}\n",
        "$$"
      ]
    },
    {
      "cell_type": "markdown",
      "metadata": {
        "id": "CtDoWZkdR6l7",
        "colab_type": "text"
      },
      "source": [
        "<img src=assets/backprop.png width=600></img>"
      ]
    },
    {
      "cell_type": "markdown",
      "metadata": {
        "id": "2KTC0I9JR6l8",
        "colab_type": "text"
      },
      "source": [
        "<p style=\"text-align: center\">Figure 1: Continuous backpropagation of the gradient requires solving the augmented ODE backwards in time. <br /> Arrows represent adjusting backpropagated gradients with gradients from observations. <br />\n",
        "Figure from the original paper</p>"
      ]
    },
    {
      "cell_type": "markdown",
      "metadata": {
        "id": "OCNiocAGR6l-",
        "colab_type": "text"
      },
      "source": [
        "Black trajectory represents solving the ODE during forward propagation. Red arrows represent solving the adjoint ODE during backpropagation."
      ]
    },
    {
      "cell_type": "markdown",
      "metadata": {
        "id": "zDqLUho4R6l-",
        "colab_type": "text"
      },
      "source": [
        "To optimize $L$ one needs to compute the gradients wrt. its parameters: $z(t_0), t_0, t_1, \\theta$. To do this let us first determine how loss depends on the state at every moment of time $(z(t))$:\n",
        "$$\n",
        "a(t) = -\\frac{\\partial L}{\\partial z(t)} \\tag{3}\n",
        "$$\n",
        "$a(t)$ is called *adjoint*, its dynamics is given by another ODE, which can be thought of as an instantaneous analog of the chain rule"
      ]
    },
    {
      "cell_type": "markdown",
      "metadata": {
        "id": "n7TJ3ccSR6l_",
        "colab_type": "text"
      },
      "source": [
        "$$\n",
        "\\frac{d a(t)}{d t} = -a(t) \\frac{\\partial f(z(t), t, \\theta)}{\\partial z} \\tag{4}\n",
        "$$\n",
        "Actual derivation of this particular formula can be found in the appendix of the original paper."
      ]
    },
    {
      "cell_type": "markdown",
      "metadata": {
        "id": "jb_2VeiBR6mA",
        "colab_type": "text"
      },
      "source": [
        "All vectors here are considered row vectors, whereas the original paper uses both column and row representations."
      ]
    },
    {
      "cell_type": "markdown",
      "metadata": {
        "id": "vY_Tf06LR6mB",
        "colab_type": "text"
      },
      "source": [
        "One can then compute \n",
        "$$\n",
        "\\frac{\\partial L}{\\partial z(t_0)} = \\int_{t_1}^{t_0} a(t) \\frac{\\partial f(z(t), t, \\theta)}{\\partial z} dt \\tag{5}\n",
        "$$"
      ]
    },
    {
      "cell_type": "markdown",
      "metadata": {
        "id": "ZrlDN7VSR6mC",
        "colab_type": "text"
      },
      "source": [
        "To compute the gradients wrt. to $t$ and $\\theta$ we determine the augmented state"
      ]
    },
    {
      "cell_type": "markdown",
      "metadata": {
        "id": "1ia5qaj2R6mD",
        "colab_type": "text"
      },
      "source": [
        "$$\n",
        "\\frac{d}{dt} \\begin{bmatrix} z \\\\ \\theta \\\\ t \\end{bmatrix} (t) = f_{\\text{aug}}([z, \\theta, t]) := \\begin{bmatrix} f([z, \\theta, t ]) \\\\ 0 \\\\ 1 \\end{bmatrix} \\tag{6}\n",
        "$$"
      ]
    },
    {
      "cell_type": "markdown",
      "metadata": {
        "id": "8J4ble3uR6mE",
        "colab_type": "text"
      },
      "source": [
        "Adjoint state to this augmented state is then\n",
        "$$\n",
        "a_{\\text{aug}} := \\begin{bmatrix} a \\\\ a_{\\theta} \\\\ a_t \\end{bmatrix}, a_{\\theta}(t) := \\frac{\\partial L}{\\partial \\theta(t)}, a_t(t) := \\frac{\\partial L}{\\partial t(t)} \\tag{7}\n",
        "$$"
      ]
    },
    {
      "cell_type": "markdown",
      "metadata": {
        "id": "5-Ow1C4UR6mF",
        "colab_type": "text"
      },
      "source": [
        "Gradient of the augmented dynamics\n",
        "\n",
        "$$\n",
        "\\frac{\\partial f_{\\text{aug}}}{\\partial [z, \\theta, t]} = \\begin{bmatrix} \n",
        "\\frac{\\partial f}{\\partial z} & \\frac{\\partial f}{\\partial \\theta} & \\frac{\\partial f}{\\partial t} \\\\\n",
        "0 & 0 & 0 \\\\\n",
        "0 & 0 & 0\n",
        "\\end{bmatrix} \\tag{8}\n",
        "$$"
      ]
    },
    {
      "cell_type": "markdown",
      "metadata": {
        "id": "RGaVyMsVR6mG",
        "colab_type": "text"
      },
      "source": [
        "Adjoint state ODE from formula (4) is then \n",
        "$$\n",
        "\\frac{d a_{\\text{aug}}}{dt} = - \\begin{bmatrix} a\\frac{\\partial f}{\\partial z} & a\\frac{\\partial f}{\\partial \\theta} & a\\frac{\\partial f}{\\partial t}\\end{bmatrix} \\tag{9}\n",
        "$$"
      ]
    },
    {
      "cell_type": "markdown",
      "metadata": {
        "id": "BFUMHFLyR6mH",
        "colab_type": "text"
      },
      "source": [
        "By solving this adjoint augmented ODE initial value problem one gets\n",
        "$$\n",
        "\\frac{\\partial L}{\\partial z(t_0)} = \\int_{t_1}^{t_0} a(t) \\frac{\\partial f(z(t), t, \\theta)}{\\partial z} dt \\tag{10}\n",
        "$$\n",
        "\n",
        "$$\n",
        "\\frac{\\partial L}{\\partial \\theta} = \\int_{t_1}^{t_0} a(t) \\frac{\\partial f(z(t), t, \\theta)}{\\partial \\theta} dt \\tag{11}\n",
        "$$\n",
        "\n",
        "$$\n",
        "\\frac{\\partial L}{\\partial t_0} = \\int_{t_1}^{t_0} a(t) \\frac{\\partial f(z(t), t, \\theta)}{\\partial t} dt \\tag{12}\n",
        "$$"
      ]
    },
    {
      "cell_type": "markdown",
      "metadata": {
        "id": "Ynj2G0ynR6mI",
        "colab_type": "text"
      },
      "source": [
        "which, together with,\n",
        "$$\n",
        "\\frac{\\partial L}{\\partial t_1} = - a(t) \\frac{\\partial f(z(t), t, \\theta)}{\\partial t} \\tag{13}\n",
        "$$\n",
        "complements gradients wrt. all the ODESolve parameters."
      ]
    },
    {
      "cell_type": "markdown",
      "metadata": {
        "id": "twnTLMa4R6mI",
        "colab_type": "text"
      },
      "source": [
        "The gradients (10), (11), (12), (13) can be calculated altogether during a single call of the ODESolve with augmented state dynamics (9)."
      ]
    },
    {
      "cell_type": "markdown",
      "metadata": {
        "id": "M8ruE_oSR6mJ",
        "colab_type": "text"
      },
      "source": [
        "<img src=assets/pseudocode.png width=800></img>\n",
        "<div align=\"center\">Figure from the original paper</div>"
      ]
    },
    {
      "cell_type": "markdown",
      "metadata": {
        "id": "W4Fpp1c7R6mK",
        "colab_type": "text"
      },
      "source": [
        "The algorithm above describes backpropagation of gradients for the ODE initial value problem with subsequent observations. This algorithm lies in the heart of Neural ODEs."
      ]
    },
    {
      "cell_type": "markdown",
      "metadata": {
        "id": "R0d2pzg7R6mL",
        "colab_type": "text"
      },
      "source": [
        "In case there are many observations along the trajectory, one computes the adjoint augmented ODE dynamics for subsequent observations, adjusting the backpropagated gradients with direct gradients at observation times, as shown above on *figure 1*."
      ]
    },
    {
      "cell_type": "markdown",
      "metadata": {
        "id": "keChkIyFR6mM",
        "colab_type": "text"
      },
      "source": [
        "# Implementation "
      ]
    },
    {
      "cell_type": "markdown",
      "metadata": {
        "id": "iAovGLYjR6mN",
        "colab_type": "text"
      },
      "source": [
        "Loading the required libraries:"
      ]
    },
    {
      "cell_type": "code",
      "metadata": {
        "id": "DclaB_b5R6mO",
        "colab_type": "code",
        "colab": {}
      },
      "source": [
        "import math\n",
        "import numpy as np\n",
        "from IPython.display import clear_output\n",
        "from tqdm import tqdm_notebook as tqdm\n",
        "\n",
        "import matplotlib as mpl\n",
        "import matplotlib.pyplot as plt\n",
        "%matplotlib inline\n",
        "import seaborn as sns\n",
        "sns.color_palette(\"bright\")\n",
        "import matplotlib as mpl\n",
        "import matplotlib.cm as cm\n",
        "\n",
        "import torch\n",
        "from torch import Tensor\n",
        "from torch import nn\n",
        "from torch.nn  import functional as F \n",
        "from torch.autograd import Variable\n",
        "\n",
        "use_cuda = torch.cuda.is_available()"
      ],
      "execution_count": 0,
      "outputs": []
    },
    {
      "cell_type": "code",
      "metadata": {
        "id": "QLc8lqyId2X1",
        "colab_type": "code",
        "colab": {}
      },
      "source": [
        ""
      ],
      "execution_count": 0,
      "outputs": []
    },
    {
      "cell_type": "markdown",
      "metadata": {
        "id": "jy4-tX8tR6mS",
        "colab_type": "text"
      },
      "source": [
        "We use the most basic implementation of an ODE discretization, namely the explicit Euler algorithm."
      ]
    },
    {
      "cell_type": "code",
      "metadata": {
        "id": "Zkqy9zytR6mT",
        "colab_type": "code",
        "colab": {}
      },
      "source": [
        "def ode_solve(z0, t0, t1, f):\n",
        "    \"\"\"\n",
        "    Simplest Euler ODE initial value solver\n",
        "    \"\"\"\n",
        "    h_max = 0.02\n",
        "    n_steps = math.ceil((abs(t1 - t0)/h_max).max().item())\n",
        "\n",
        "    h = (t1 - t0)/n_steps\n",
        "    t = t0\n",
        "    z = z0\n",
        "\n",
        "    for i_step in range(n_steps):\n",
        "        z = z + h * f(z, t)\n",
        "        t = t + h\n",
        "    return z"
      ],
      "execution_count": 0,
      "outputs": []
    },
    {
      "cell_type": "markdown",
      "metadata": {
        "id": "WTR0QnjlR6mW",
        "colab_type": "text"
      },
      "source": [
        "We also implement a superclass of parameterized dynamics function in the form of neural network with a couple useful methods.\n",
        "\n",
        "First, one needs to be able to flatten all the parameters that the function depends on.\n",
        "\n",
        "Second, one needs to implement a method that computes the augmented dynamics. This augmented dynamics depends on the gradient of the function wrt. its inputs and parameters.  In order to not have to specify them by hand for every new architecture, we will use **torch.autograd.grad** method."
      ]
    },
    {
      "cell_type": "code",
      "metadata": {
        "id": "FzvR4E9nR6mX",
        "colab_type": "code",
        "colab": {}
      },
      "source": [
        "class ODEF(nn.Module):\n",
        "    def forward_with_grad(self, z, t, grad_outputs):\n",
        "        \"\"\"Compute f and a df/dz, a df/dp, a df/dt\"\"\"\n",
        "        batch_size = z.shape[0]\n",
        "\n",
        "        out = self.forward(z, t)\n",
        "\n",
        "        a = grad_outputs\n",
        "        adfdz, adfdt, *adfdp = torch.autograd.grad(\n",
        "            (out,), (z, t) + tuple(self.parameters()), grad_outputs=(a),\n",
        "            allow_unused=True, retain_graph=True\n",
        "        )\n",
        "        # grad method automatically sums gradients for batch items, we have to expand them back \n",
        "        if adfdp is not None:\n",
        "            adfdp = torch.cat([p_grad.flatten() for p_grad in adfdp]).unsqueeze(0)\n",
        "            adfdp = adfdp.expand(batch_size, -1) / batch_size\n",
        "        if adfdt is not None:\n",
        "            adfdt = adfdt.expand(batch_size, 1) / batch_size\n",
        "        return out, adfdz, adfdt, adfdp\n",
        "\n",
        "    def flatten_parameters(self):\n",
        "        p_shapes = []\n",
        "        flat_parameters = []\n",
        "        for p in self.parameters():\n",
        "            p_shapes.append(p.size())\n",
        "            flat_parameters.append(p.flatten())\n",
        "        return torch.cat(flat_parameters)"
      ],
      "execution_count": 0,
      "outputs": []
    },
    {
      "cell_type": "markdown",
      "metadata": {
        "id": "qA2yzsNMR6mZ",
        "colab_type": "text"
      },
      "source": [
        "The code below incapsulates forward and backward passes of *Neural ODE*. We have to separate it from main ***torch.nn.Module*** because custom backward function can't be implemented inside Module, but can be implemented inside ***torch.autograd.Function***. So this is just a little workaround.\n",
        "\n",
        "This function underlies the whole Neural ODE method calculating forward pass for the ODE and the backward pass for the adjoint equations."
      ]
    },
    {
      "cell_type": "code",
      "metadata": {
        "id": "1cEQwwKSR6ma",
        "colab_type": "code",
        "colab": {}
      },
      "source": [
        "class ODEAdjoint(torch.autograd.Function):\n",
        "    @staticmethod\n",
        "    def forward(ctx, z0, t, flat_parameters, func):\n",
        "        assert isinstance(func, ODEF)\n",
        "        bs, *z_shape = z0.size()\n",
        "        time_len = t.size(0)\n",
        "\n",
        "        with torch.no_grad():\n",
        "            z = torch.zeros(time_len, bs, *z_shape).to(z0)\n",
        "            z[0] = z0\n",
        "            for i_t in range(time_len - 1):\n",
        "                z0 = ode_solve(z0, t[i_t], t[i_t+1], func)\n",
        "                z[i_t+1] = z0\n",
        "\n",
        "        ctx.func = func\n",
        "        ctx.save_for_backward(t, z.clone(), flat_parameters)\n",
        "        return z\n",
        "\n",
        "    @staticmethod\n",
        "    def backward(ctx, dLdz):\n",
        "        \"\"\"\n",
        "        dLdz shape: time_len, batch_size, *z_shape\n",
        "        \"\"\"\n",
        "        func = ctx.func\n",
        "        t, z, flat_parameters = ctx.saved_tensors\n",
        "        time_len, bs, *z_shape = z.size()\n",
        "        n_dim = np.prod(z_shape)\n",
        "        n_params = flat_parameters.size(0)\n",
        "\n",
        "        # Dynamics of augmented system to be calculated backwards in time\n",
        "        def augmented_dynamics(aug_z_i, t_i):\n",
        "            \"\"\"\n",
        "            tensors here are temporal slices\n",
        "            t_i - is tensor with size: bs, 1\n",
        "            aug_z_i - is tensor with size: bs, n_dim*2 + n_params + 1\n",
        "            \"\"\"\n",
        "            z_i, a = aug_z_i[:, :n_dim], aug_z_i[:, n_dim:2*n_dim]  # ignore parameters and time\n",
        "\n",
        "            # Unflatten z and a\n",
        "            z_i = z_i.view(bs, *z_shape)\n",
        "            a = a.view(bs, *z_shape)\n",
        "            with torch.set_grad_enabled(True):\n",
        "                t_i = t_i.detach().requires_grad_(True)\n",
        "                z_i = z_i.detach().requires_grad_(True)\n",
        "                func_eval, adfdz, adfdt, adfdp = func.forward_with_grad(z_i, t_i, grad_outputs=a)  # bs, *z_shape\n",
        "                adfdz = adfdz.to(z_i) if adfdz is not None else torch.zeros(bs, *z_shape).to(z_i)\n",
        "                adfdp = adfdp.to(z_i) if adfdp is not None else torch.zeros(bs, n_params).to(z_i)\n",
        "                adfdt = adfdt.to(z_i) if adfdt is not None else torch.zeros(bs, 1).to(z_i)\n",
        "\n",
        "            # Flatten f and adfdz\n",
        "            func_eval = func_eval.view(bs, n_dim)\n",
        "            adfdz = adfdz.view(bs, n_dim) \n",
        "            return torch.cat((func_eval, -adfdz, -adfdp, -adfdt), dim=1)\n",
        "\n",
        "        dLdz = dLdz.view(time_len, bs, n_dim)  # flatten dLdz for convenience\n",
        "        with torch.no_grad():\n",
        "            ## Create placeholders for output gradients\n",
        "            # Prev computed backwards adjoints to be adjusted by direct gradients\n",
        "            adj_z = torch.zeros(bs, n_dim).to(dLdz)\n",
        "            adj_p = torch.zeros(bs, n_params).to(dLdz)\n",
        "            # In contrast to z and p we need to return gradients for all times\n",
        "            adj_t = torch.zeros(time_len, bs, 1).to(dLdz)\n",
        "\n",
        "            for i_t in range(time_len-1, 0, -1):\n",
        "                z_i = z[i_t]\n",
        "                t_i = t[i_t]\n",
        "                f_i = func(z_i, t_i).view(bs, n_dim)\n",
        "\n",
        "                # Compute direct gradients\n",
        "                dLdz_i = dLdz[i_t]\n",
        "                dLdt_i = torch.bmm(torch.transpose(dLdz_i.unsqueeze(-1), 1, 2), f_i.unsqueeze(-1))[:, 0]\n",
        "\n",
        "                # Adjusting adjoints with direct gradients\n",
        "                adj_z += dLdz_i\n",
        "                adj_t[i_t] = adj_t[i_t] - dLdt_i\n",
        "\n",
        "                # Pack augmented variable\n",
        "                aug_z = torch.cat((z_i.view(bs, n_dim), adj_z, torch.zeros(bs, n_params).to(z), adj_t[i_t]), dim=-1)\n",
        "\n",
        "                # Solve augmented system backwards\n",
        "                aug_ans = ode_solve(aug_z, t_i, t[i_t-1], augmented_dynamics)\n",
        "\n",
        "                # Unpack solved backwards augmented system\n",
        "                adj_z[:] = aug_ans[:, n_dim:2*n_dim]\n",
        "                adj_p[:] += aug_ans[:, 2*n_dim:2*n_dim + n_params]\n",
        "                adj_t[i_t-1] = aug_ans[:, 2*n_dim + n_params:]\n",
        "\n",
        "                del aug_z, aug_ans\n",
        "\n",
        "            ## Adjust 0 time adjoint with direct gradients\n",
        "            # Compute direct gradients \n",
        "            dLdz_0 = dLdz[0]\n",
        "            dLdt_0 = torch.bmm(torch.transpose(dLdz_0.unsqueeze(-1), 1, 2), f_i.unsqueeze(-1))[:, 0]\n",
        "\n",
        "            # Adjust adjoints\n",
        "            adj_z += dLdz_0\n",
        "            adj_t[0] = adj_t[0] - dLdt_0\n",
        "        return adj_z.view(bs, *z_shape), adj_t, adj_p, None"
      ],
      "execution_count": 0,
      "outputs": []
    },
    {
      "cell_type": "markdown",
      "metadata": {
        "id": "Q9irpm_4R6md",
        "colab_type": "text"
      },
      "source": [
        "Wrap ode adjoint function in **nn.Module** for convenience."
      ]
    },
    {
      "cell_type": "code",
      "metadata": {
        "id": "ngBWXBbaR6mf",
        "colab_type": "code",
        "colab": {}
      },
      "source": [
        "class NeuralODE(nn.Module):\n",
        "    def __init__(self, func):\n",
        "        super(NeuralODE, self).__init__()\n",
        "        assert isinstance(func, ODEF)\n",
        "        self.func = func\n",
        "\n",
        "    def forward(self, z0, t=Tensor([0., 1.]), return_whole_sequence=False):\n",
        "        t = t.to(z0)\n",
        "        z = ODEAdjoint.apply(z0, t, self.func.flatten_parameters(), self.func)\n",
        "        if return_whole_sequence:\n",
        "            return z\n",
        "        else:\n",
        "            return z[-1]"
      ],
      "execution_count": 0,
      "outputs": []
    },
    {
      "cell_type": "markdown",
      "metadata": {
        "id": "naLtbDGHR6mh",
        "colab_type": "text"
      },
      "source": [
        "# Application"
      ]
    },
    {
      "cell_type": "markdown",
      "metadata": {
        "id": "XtFXsyeHR6mi",
        "colab_type": "text"
      },
      "source": [
        "## Learning the process network dynamics"
      ]
    },
    {
      "cell_type": "markdown",
      "metadata": {
        "id": "-fBocNC7R6mj",
        "colab_type": "text"
      },
      "source": [
        "As a proof-of-concept we will now test if a neural ODE can indeed restore true dynamics function using sampled data.\n",
        "\n",
        "The state space system of the process flow network using its given parameters above results in the following system:"
      ]
    },
    {
      "cell_type": "markdown",
      "metadata": {
        "id": "CUe4OHh3R6ml",
        "colab_type": "text"
      },
      "source": [
        "$$\n",
        "\\frac{dz}{dt} = \\begin{bmatrix}-2.0 & 0\\\\0 & -3.0\\end{bmatrix} z + \\begin{bmatrix}2.0\\\\4.0 \\end{bmatrix}\n",
        "$$"
      ]
    },
    {
      "cell_type": "markdown",
      "metadata": {
        "id": "KVJRZ9-7R6mm",
        "colab_type": "text"
      },
      "source": [
        "Definition of the used neural network to be trained to model the process network dynamic system:"
      ]
    },
    {
      "cell_type": "code",
      "metadata": {
        "id": "TVZKux69R6mm",
        "colab_type": "code",
        "colab": {}
      },
      "source": [
        "class IrisNet(nn.Module):\n",
        "    \n",
        "    def __init__(self, input_size, hidden1_size, hidden2_size, num_classes):\n",
        "        \n",
        "        super(IrisNet, self).__init__()\n",
        "        self.fc1 = nn.Linear(input_size, hidden1_size)\n",
        "        self.relu1 = nn.ReLU()\n",
        "        self.fc2 = nn.Linear(hidden1_size, hidden2_size)\n",
        "        self.relu2 = nn.ReLU()\n",
        "        self.fc3 = nn.Linear(hidden2_size, num_classes)  \n",
        "    \n",
        "    def forward(self, x):\n",
        "        out = self.fc1(x)\n",
        "        out = self.relu1(out)\n",
        "        out = self.fc2(out)\n",
        "        out = self.relu2(out)\n",
        "        out = self.fc3(out)\n",
        "        return out"
      ],
      "execution_count": 0,
      "outputs": []
    },
    {
      "cell_type": "code",
      "metadata": {
        "id": "1C5LZs7TR6mp",
        "colab_type": "code",
        "colab": {}
      },
      "source": [
        "class NNODEF2(ODEF):\n",
        "    def __init__(self, in_dim, hid_dim,  time_invariant=False):\n",
        "        super(NNODEF2, self).__init__()\n",
        "        self.time_invariant = time_invariant\n",
        "        if time_invariant:\n",
        "            self.lin1 = nn.Linear(in_dim, hid_dim, bias=False)\n",
        "            A = Tensor([[-1.0, 0.0, 1.0, 0.0],[0.0, -2.0, 2.0, 0.0],[3.0, 0.0, 0.0, -3.0],[0.0, 4.0, 0.0, -4.0]])\n",
        "            self.lin1.weight = nn.Parameter(A)\n",
        "            \n",
        "        else:\n",
        "            self.lin1 = nn.Linear(in_dim+1, hid_dim, bias=False)\n",
        "        \n",
        "        self.relu1 = nn.ReLU(inplace=True)\n",
        "#        self.lin2 = nn.Linear(hid_dim,hid_dim, bias=False)\n",
        "#        self.relu2 = nn.ELU(inplace=True)\n",
        "        self.lin2 = nn.Linear(hid_dim, in_dim, bias=False)\n",
        "        C = Tensor([[0.5, 0.0, -0.5, 0],[0.0, 0.5, 0.0, -0.5],[0.0, 0.0, 0.0, 0.0],[0.0, 0.0, 0.0, 0.0]])\n",
        "        self.lin2.weight = nn.Parameter(C)\n",
        "        \n",
        "        \n",
        "        self.relu2 = nn.ReLU(inplace=True)\n",
        "        \n",
        "\n",
        "    def forward(self, x,t):\n",
        "        if not self.time_invariant:\n",
        "            x = torch.cat((x, t), dim=-1)\n",
        "        h = self.relu1(self.lin1(x))\n",
        " #       h = self.relu2(self.lin2(h))\n",
        "        out = self.lin2(h)\n",
        "        return out"
      ],
      "execution_count": 0,
      "outputs": []
    },
    {
      "cell_type": "code",
      "metadata": {
        "id": "J_N5PUo_R6ms",
        "colab_type": "code",
        "colab": {}
      },
      "source": [
        "class NNODEF(ODEF):\n",
        "    def __init__(self, in_dim, hid_dim, time_invariant=False):\n",
        "        super(NNODEF, self).__init__()\n",
        "        self.time_invariant = time_invariant\n",
        "\n",
        "        if time_invariant:\n",
        "            self.lin1 = nn.Linear(in_dim, hid_dim)\n",
        "        else:\n",
        "            self.lin1 = nn.Linear(in_dim+1, hid_dim)\n",
        "            self.lin2 = nn.Linear(hid_dim, hid_dim)\n",
        "            self.lin3 = nn.Linear(hid_dim, in_dim)\n",
        "            self.elu = nn.ELU(inplace=True)\n",
        "\n",
        "    def forward(self, x, t):\n",
        "        if not self.time_invariant:\n",
        "            x = torch.cat((x, t), dim=-1)\n",
        "        h = self.elu(self.lin1(x))\n",
        "        h = self.elu(self.lin2(x))\n",
        "        out = self.lin3(h)\n",
        "        return out"
      ],
      "execution_count": 0,
      "outputs": []
    },
    {
      "cell_type": "markdown",
      "metadata": {
        "id": "GXRwBx6MR6mw",
        "colab_type": "text"
      },
      "source": [
        "Defining the right hand side of the ODE that is used to create synthetic measured data of the states $p_{1}$ and $p_{2}$."
      ]
    },
    {
      "cell_type": "code",
      "metadata": {
        "id": "vkgkBsbYR6mx",
        "colab_type": "code",
        "colab": {}
      },
      "source": [
        "class PROCODEF(ODEF):\n",
        "    def __init__(self, A, p0):\n",
        "        super(PROCODEF, self).__init__()\n",
        "        self.A = nn.Linear(2, 2, bias=False)\n",
        "        self.A.weight = nn.Parameter(A)\n",
        "        self.p0 = nn.Parameter(p0)\n",
        "\n",
        "    def forward(self, p, t):\n",
        "        dpdt = self.A(p) + self.p0\n",
        "        return dpdt"
      ],
      "execution_count": 0,
      "outputs": []
    },
    {
      "cell_type": "code",
      "metadata": {
        "id": "4-d6FTOXR6m0",
        "colab_type": "code",
        "colab": {}
      },
      "source": [
        "class PROCODEF2(ODEF):\n",
        "    def __init__(self, K, C, PT):\n",
        "        super(PROCODEF, self).__init__()\n",
        "        self.A = nn.Linear(2, 2, bias=False)\n",
        "        self.A.weight = nn.Parameter(Tensor([[-(K[0]+K[2])/C[0],  0],[0,  -(K[1]+K[3])/C[1]]]))\n",
        "        self.p0 = nn.Parameter(Tensor([[(K[0]*PT[0]+K[2]*PT[1])/C[0],  (K[1]*PT[0]+K[3]*PT[1])/C[1] ]]))\n",
        "\n",
        "    def forward(self, p, t):\n",
        "        dpdt = self.A(p) + self.p0\n",
        "        return dpdt"
      ],
      "execution_count": 0,
      "outputs": []
    },
    {
      "cell_type": "code",
      "metadata": {
        "id": "iRwOnh1IR6m4",
        "colab_type": "code",
        "colab": {}
      },
      "source": [
        "K = Tensor([1,  2,  3,  4])\n",
        "C = Tensor([2,  2])\n",
        "PT = Tensor([4,  0])\n",
        "\n",
        "A = Tensor([[-(K[0]+K[2])/C[0],  0],\n",
        "              [0,  -(K[1]+K[3])/C[1]]])\n",
        "\n",
        "\n"
      ],
      "execution_count": 0,
      "outputs": []
    },
    {
      "cell_type": "code",
      "metadata": {
        "id": "N3CXtmRkR6m7",
        "colab_type": "code",
        "outputId": "5d5d8b36-8e10-44e0-d40e-e99fba11dfe0",
        "colab": {}
      },
      "source": [
        "A"
      ],
      "execution_count": 0,
      "outputs": [
        {
          "output_type": "execute_result",
          "data": {
            "text/plain": [
              "tensor([[-2.,  0.],\n",
              "        [ 0., -3.]])"
            ]
          },
          "metadata": {
            "tags": []
          },
          "execution_count": 294
        }
      ]
    },
    {
      "cell_type": "code",
      "metadata": {
        "id": "HfO4izbdR6m_",
        "colab_type": "code",
        "colab": {}
      },
      "source": [
        "B =  Tensor([[-2., 0.], [0., -3.0]])"
      ],
      "execution_count": 0,
      "outputs": []
    },
    {
      "cell_type": "code",
      "metadata": {
        "id": "IFwp-NqzR6nC",
        "colab_type": "code",
        "outputId": "19e844b1-5dc1-4e61-806b-6e9ffb029790",
        "colab": {}
      },
      "source": [
        "B"
      ],
      "execution_count": 0,
      "outputs": [
        {
          "output_type": "execute_result",
          "data": {
            "text/plain": [
              "tensor([[-2.,  0.],\n",
              "        [ 0., -3.]])"
            ]
          },
          "metadata": {
            "tags": []
          },
          "execution_count": 296
        }
      ]
    },
    {
      "cell_type": "markdown",
      "metadata": {
        "id": "oa2pWOt9R6nE",
        "colab_type": "text"
      },
      "source": [
        "Defining a function to plot trajectories of the state space system in $p_{1}$ and $p_{2}$ to observe the process of training the neural ODE to the process data:"
      ]
    },
    {
      "cell_type": "code",
      "metadata": {
        "id": "DNUjwFsMR6nF",
        "colab_type": "code",
        "colab": {}
      },
      "source": [
        "def to_np(x):\n",
        "    return x.detach().cpu().numpy()\n",
        "\n",
        "def plot_trajectories(obs=None, times=None, trajs=None, save=None, figsize=(10, 5)):\n",
        "    plt.figure(figsize=figsize)\n",
        "    if obs is not None:\n",
        "        if times is None:\n",
        "            times = [None] * len(obs)\n",
        "        for o, t in zip(obs, times):\n",
        "            o, t = to_np(o), to_np(t)\n",
        "            for b_i in range(o.shape[1]):\n",
        "                plt.scatter(o[:, b_i, 0], o[:, b_i, 1], marker=\"x\", color='black') # cmap=cm.plasma\n",
        "\n",
        "    if trajs is not None: \n",
        "        for z in trajs:\n",
        "            z = to_np(z)\n",
        "            plt.plot(z[:, 0, 0], z[:, 0, 1], lw=2.5, color='black')\n",
        "        if save is not None:\n",
        "            plt.savefig(save)\n",
        "    plt.xlabel(\"p1 [bar]\")\n",
        "    plt.ylabel(\"p2 [bar]\")\n",
        "    plt.show()"
      ],
      "execution_count": 0,
      "outputs": []
    },
    {
      "cell_type": "markdown",
      "metadata": {
        "id": "o-FIGmpiR6nI",
        "colab_type": "text"
      },
      "source": [
        "Defining a function to plot the time evolvement of state $p_{1}$ and $p_{2}$ of the state space system in time to observe the result of the training process:"
      ]
    },
    {
      "cell_type": "code",
      "metadata": {
        "id": "tJmmfnU5R6nJ",
        "colab_type": "code",
        "colab": {}
      },
      "source": [
        "def plot_trajectories2(obs=None, times=None, trajs=None, save=None, figsize=(10, 5)):\n",
        "    plt.figure(figsize=figsize)\n",
        "    if obs is not None:\n",
        "        if times is None:\n",
        "            times = [None] * len(obs)\n",
        "        for o, t, z in zip(obs, times, trajs):\n",
        "            o, t, z = to_np(o), to_np(t), to_np(z)\n",
        "    \n",
        "    plt.subplot(1, 2, 1)\n",
        "    plt.scatter(t[:, 0, 0], o[:, 0, 0], marker=\"x\", color='black')\n",
        "    plt.plot(t[:, 0, 0], z[:, 0, 0], lw=1.5)\n",
        "    plt.xlabel(\"time [s]\")\n",
        "    plt.ylabel(\"p1 [bar]\")\n",
        "    plt.subplot(1, 2, 2)\n",
        "    plt.scatter(t[:, 0, 0], o[:, 0, 1], marker=\"x\", color='black')\n",
        "    plt.plot(t[:, 0, 0], z[:, 0, 1], lw=1.5)\n",
        "    plt.xlabel(\"time [s]\")\n",
        "    plt.ylabel(\"p2 [bar]\")\n",
        "    plt.show()\n",
        "    plt.subplot(2, 2, 1)\n",
        "    plt.scatter(t[:, 0, 0], o[:, 0, 2], marker=\"x\", color='black')\n",
        "    plt.plot(t[:, 0, 0], z[:, 0, 2], lw=1.5)\n",
        "    plt.xlabel(\"time [s]\")\n",
        "    plt.ylabel(\"pT1 [bar]\")\n",
        "    plt.show()\n",
        "    plt.subplot(2, 2, 2)\n",
        "    plt.scatter(t[:, 0, 0], o[:, 0, 3], marker=\"x\", color='black')\n",
        "    plt.plot(t[:, 0, 0], z[:, 0, 3], lw=1.5)\n",
        "    plt.xlabel(\"time [s]\")\n",
        "    plt.ylabel(\"pT2 [bar]\")\n",
        "    plt.show()"
      ],
      "execution_count": 0,
      "outputs": []
    },
    {
      "cell_type": "markdown",
      "metadata": {
        "id": "AZ471NIDR6nN",
        "colab_type": "text"
      },
      "source": [
        "Defining the state space system with the parameters from the table above and the initial conditions:"
      ]
    },
    {
      "cell_type": "code",
      "metadata": {
        "id": "3iSph7vdR6nO",
        "colab_type": "code",
        "colab": {}
      },
      "source": [
        "# defining the right hand side of the process network state space system\n",
        "K = Tensor([1,  2,  3,  4])\n",
        "C = Tensor([2,  2])\n",
        "PT = Tensor([4,  0])\n",
        "A = Tensor([[-(K[0]+K[2])/C[0],  0],[0,  -(K[1]+K[3])/C[1]]])\n",
        "p0 = Tensor([[(K[0]*PT[0]+K[2]*PT[1])/C[0],  (K[1]*PT[0]+K[3]*PT[1])/C[1] ]])\n",
        "\n",
        "\n",
        "func = PROCODEF(A, p0)\n",
        "#func = PROCODEF(Tensor([[-2., 0.], [0., -3.0]]), Tensor([[2., 4.]]))\n",
        "ode_true = NeuralODE(func)\n",
        "\n",
        "# defining the size of to be trained neural network\n",
        "func = NNODEF2(4, 4, True)\n",
        "ode_trained = NeuralODE(func)\n",
        "\n",
        "\n",
        "\n",
        "\n",
        "\n",
        "\n",
        "# initial conditions\n",
        "z0 = Variable(torch.Tensor([[4.0, 6.0]]))\n",
        "z02 = Variable(torch.Tensor([[4.0, 6.0, 4.0, 0.0]]))\n",
        "\n",
        "# maximum time range of the training data from t_zero to t_max\n",
        "t_max = 3.0\n"
      ],
      "execution_count": 0,
      "outputs": []
    },
    {
      "cell_type": "code",
      "metadata": {
        "id": "if7wtqGER6nR",
        "colab_type": "code",
        "outputId": "4cddbadf-2c6d-4565-c1f7-137c685a0578",
        "colab": {
          "base_uri": "https://localhost:8080/",
          "height": 334
        }
      },
      "source": [
        "# Training the neural ODE\n",
        "\n",
        "\n",
        "# Training parameters\n",
        "n_points = 700 # number of sample points of the original system\n",
        "n_steps = 1000 # number of training runs for the neural network with individually sampled batches from the total sample population\n",
        "plot_freq= 200 # time frequency of plot updates after x more training runs\n",
        "\n",
        "\n",
        "# creating the vector of sample points from the original ODE as synthetic data\n",
        "index_np = np.arange(0, n_points, 1, dtype=np.int)\n",
        "index_np = np.hstack([index_np[:, None]])\n",
        "times_np = np.linspace(0, t_max, num=n_points)\n",
        "times_np = np.hstack([times_np[:, None]])\n",
        "\n",
        "times = torch.from_numpy(times_np[:, :, None]).to(z0)\n",
        "obs1 = ode_true(z0, times, return_whole_sequence=True).detach()\n",
        "obs1 = obs1 + torch.randn_like(obs1) * 0.06 #adding gaussian noise to the sample observations\n",
        "\n",
        "\n",
        "dummy = np.zeros(shape=(n_points,2))\n",
        "for i in range (len(obs1)):\n",
        "        dummy[i,0] = 4\n",
        "\n",
        "dummy2 = np.array([dummy])\n",
        "dummy3 = dummy2.transpose(1,0,2) \n",
        "obs_terminal = torch.from_numpy(dummy3)\n",
        "obs_terminal = torch.tensor(obs_terminal, dtype=torch.float32)\n",
        "#obs_terminal = obs_terminal + torch.randn_like(obs_terminal) * 0.04 #adding gaussian noise to the sample observations\n",
        "obs = torch.cat((obs1, obs_terminal), 2)\n",
        "\n",
        "# Determine random time span within sample range t_zero and t_max \n",
        "min_delta_time = 0.1 \n",
        "max_delta_time = 0.3\n",
        "max_points_num = 30\n",
        "\n",
        "# creating a training batch from the random time span\n",
        "def create_batch():\n",
        "    t0 = np.random.uniform(0, t_max - max_delta_time)\n",
        "    t1 = t0 + np.random.uniform(min_delta_time, max_delta_time)\n",
        "\n",
        "    idx = sorted(np.random.permutation(index_np[(times_np > t0) & (times_np < t1)])[:max_points_num])\n",
        "\n",
        "    obs_ = obs[idx]\n",
        "    ts_ = times[idx]\n",
        "    return obs_, ts_\n",
        "\n",
        "# Train Neural ODE\n",
        "optimizer = torch.optim.Adam(ode_trained.parameters(), lr=0.01)\n",
        "for i in range(n_steps):\n",
        "    obs_, ts_ = create_batch()\n",
        "\n",
        "    z_ = ode_trained(obs_[0], ts_, return_whole_sequence=True)\n",
        "    loss = F.mse_loss(z_, obs_.detach())\n",
        "   # loss__later[i] = [i,loss]\n",
        "    optimizer.zero_grad()\n",
        "    loss.backward(retain_graph=True)\n",
        "    \n",
        "    optimizer.step()\n",
        "# plotting the training updates\n",
        "    if i % plot_freq == 0:\n",
        "        z_p = ode_trained(z02, times, return_whole_sequence=True)\n",
        "\n",
        "        plot_trajectories(obs=[obs1], times=[times], trajs=[z_p])\n",
        "        clear_output(wait=True)"
      ],
      "execution_count": 0,
      "outputs": [
        {
          "output_type": "display_data",
          "data": {
            "image/png": "[encoded data removed]",
            "text/plain": [
              "<Figure size 720x360 with 1 Axes>"
            ]
          },
          "metadata": {
            "tags": []
          }
        }
      ]
    },
    {
      "cell_type": "markdown",
      "metadata": {
        "id": "6EeqMqtXR6nV",
        "colab_type": "text"
      },
      "source": [
        "Testing how well the system works for other initial conditions by simulating a trajectory in time for a state using the trained neural ODE"
      ]
    },
    {
      "cell_type": "code",
      "metadata": {
        "id": "jrnZHrLcR6nW",
        "colab_type": "code",
        "outputId": "62175518-705c-4103-f577-3757d8c9880d",
        "colab": {
          "base_uri": "https://localhost:8080/",
          "height": 623
        }
      },
      "source": [
        "z02 = Variable(torch.Tensor([[4, 6,4,0]]))\n",
        "z0 = Variable(torch.Tensor([[4, 6]]))\n",
        "z_p = ode_trained(z02, times, return_whole_sequence=True)\n",
        "#obs = ode_true(z0, times, return_whole_sequence=True)\n",
        "#plotting the trajectory of true system data versus neural network model\n",
        "plot_trajectories2(obs=[obs], times=[times], trajs=[z_p])"
      ],
      "execution_count": 0,
      "outputs": [
        {
          "output_type": "display_data",
          "data": {
            "image/png": "[encoded data removed]",
            "text/plain": [
              "<Figure size 720x360 with 2 Axes>"
            ]
          },
          "metadata": {
            "tags": []
          }
        },
        {
          "output_type": "display_data",
          "data": {
            "image/png": "[encoded data removed]",
            "text/plain": [
              "<Figure size 432x288 with 1 Axes>"
            ]
          },
          "metadata": {
            "tags": []
          }
        },
        {
          "output_type": "display_data",
          "data": {
            "image/png": "[encoded data removed]",
            "text/plain": [
              "<Figure size 432x288 with 1 Axes>"
            ]
          },
          "metadata": {
            "tags": []
          }
        }
      ]
    },
    {
      "cell_type": "code",
      "metadata": {
        "id": "QaMAZYefR6nY",
        "colab_type": "code",
        "outputId": "a2afaa28-6d4a-4386-ae35-2b8e990f02b5",
        "colab": {
          "base_uri": "https://localhost:8080/",
          "height": 151
        }
      },
      "source": [
        "for param in ode_trained.parameters():\n",
        "  print(param.data)"
      ],
      "execution_count": 0,
      "outputs": [
        {
          "output_type": "stream",
          "text": [
            "tensor([[-1.1545,  0.0888,  0.9154, -0.2689],\n",
            "        [ 0.1127, -2.1180,  1.8514,  0.3482],\n",
            "        [ 3.0169, -0.2072, -0.1987, -2.7376],\n",
            "        [-0.2689,  3.9553, -0.1903, -4.3959]])\n",
            "tensor([[ 0.5610, -0.0277, -0.6235,  0.0375],\n",
            "        [-0.0738,  0.5206,  0.0912, -0.5972],\n",
            "        [-0.0079,  0.0107, -0.0025, -0.0040],\n",
            "        [-0.0014,  0.0034,  0.0024, -0.0009]])\n"
          ],
          "name": "stdout"
        }
      ]
    },
    {
      "cell_type": "code",
      "metadata": {
        "id": "vVz_VkFwR6na",
        "colab_type": "code",
        "outputId": "a03144c3-cd7c-408d-ef0e-bd59026b7bd1",
        "colab": {}
      },
      "source": [
        "for param in ode_trained.parameters():\n",
        "  print(param.data)"
      ],
      "execution_count": 0,
      "outputs": [
        {
          "output_type": "stream",
          "text": [
            "tensor([[-1.,  0.,  1.,  0.],\n",
            "        [ 0., -1.,  1.,  0.],\n",
            "        [ 1.,  0.,  0., -1.],\n",
            "        [ 0.,  1.,  0., -1.]])\n",
            "tensor([[ 1.,  0., -1.,  0.],\n",
            "        [ 0.,  1.,  0., -1.],\n",
            "        [ 0.,  0.,  0.,  0.],\n",
            "        [ 0.,  0.,  0.,  0.]])\n"
          ],
          "name": "stdout"
        }
      ]
    },
    {
      "cell_type": "code",
      "metadata": {
        "id": "KrfZ8tsJR6nd",
        "colab_type": "code",
        "outputId": "9b69967a-5519-4179-8543-1121550e1640",
        "colab": {}
      },
      "source": [
        "for param in ode_true.parameters():\n",
        "  print(param.data)"
      ],
      "execution_count": 0,
      "outputs": [
        {
          "output_type": "stream",
          "text": [
            "tensor([[2., 4.]])\n",
            "tensor([[-2.,  0.],\n",
            "        [ 0., -3.]])\n"
          ],
          "name": "stdout"
        }
      ]
    },
    {
      "cell_type": "code",
      "metadata": {
        "id": "LvQddHTdR6nh",
        "colab_type": "code",
        "outputId": "cf038219-2a64-4742-f086-b52d8f6c592a",
        "colab": {}
      },
      "source": [
        "z_p"
      ],
      "execution_count": 0,
      "outputs": [
        {
          "output_type": "execute_result",
          "data": {
            "text/plain": [
              "tensor([[[4.0000, 6.0000, 4.0000, 0.0000]],\n",
              "\n",
              "        [[3.9800, 5.9700, 4.0000, 0.0000]],\n",
              "\n",
              "        [[3.9601, 5.9401, 4.0000, 0.0000]],\n",
              "\n",
              "        ...,\n",
              "\n",
              "        [[2.0018, 2.0041, 4.0000, 0.0000]],\n",
              "\n",
              "        [[2.0018, 2.0040, 4.0000, 0.0000]],\n",
              "\n",
              "        [[2.0018, 2.0040, 4.0000, 0.0000]]], grad_fn=<ODEAdjointBackward>)"
            ]
          },
          "metadata": {
            "tags": []
          },
          "execution_count": 31
        }
      ]
    },
    {
      "cell_type": "code",
      "metadata": {
        "id": "UR7jXgGMR6nk",
        "colab_type": "code",
        "outputId": "dc9582af-31d6-43f7-ab15-a45d4f9d30d2",
        "colab": {}
      },
      "source": [
        "loss.backward"
      ],
      "execution_count": 0,
      "outputs": [
        {
          "output_type": "execute_result",
          "data": {
            "text/plain": [
              "<bound method Tensor.backward of tensor(0.0002, grad_fn=<MseLossBackward>)>"
            ]
          },
          "metadata": {
            "tags": []
          },
          "execution_count": 178
        }
      ]
    },
    {
      "cell_type": "code",
      "metadata": {
        "id": "4f8qwNTOR6nq",
        "colab_type": "code",
        "outputId": "70b57d48-0295-4a8d-b125-1fbb870f75c9",
        "colab": {}
      },
      "source": [
        "# Training the neural ODE\n",
        "\n",
        "\n",
        "# Training parameters\n",
        "n_points = 700 # number of sample points of the original system\n",
        "n_steps = 1000 # number of training runs for the neural network with individually sampled batches from the total sample population\n",
        "plot_freq= 200 # time frequency of plot updates after x more training runs\n",
        "\n",
        "\n",
        "# creating the vector of sample points from the original ODE as synthetic data\n",
        "index_np = np.arange(0, n_points, 1, dtype=np.int)\n",
        "index_np = np.hstack([index_np[:, None]])\n",
        "times_np = np.linspace(0, t_max, num=n_points)\n",
        "times_np = np.hstack([times_np[:, None]])\n",
        "\n",
        "times = torch.from_numpy(times_np[:, :, None]).to(z0)\n",
        "obs1 = ode_true(z0, times, return_whole_sequence=True).detach()\n",
        "obs1 = obs1 + torch.randn_like(obs1) * 0.01 #adding gaussian noise to the sample observations\n",
        "\n",
        "\n",
        "dummy = np.zeros(shape=(n_points,2))\n",
        "for i in range (len(obs1)):\n",
        "        dummy[i,0] = 4\n",
        "\n",
        "dummy2 = np.array([dummy])\n",
        "dummy3 = dummy2.transpose(1,0,2) \n",
        "obs_terminal = torch.from_numpy(dummy3)\n",
        "obs_terminal = torch.tensor(obs_terminal, dtype=torch.float32)\n",
        "#obs_terminal = obs_terminal + torch.randn_like(obs_terminal) * 0.04 #adding gaussian noise to the sample observations\n",
        "obs = torch.cat((obs1, obs_terminal), 2)\n",
        "\n",
        "# Determine random time span within sample range t_zero and t_max \n",
        "min_delta_time = 0.1 \n",
        "max_delta_time = 0.3\n",
        "max_points_num = 30\n",
        "\n",
        "# creating a training batch from the random time span\n",
        "def create_batch():\n",
        "    t0 = np.random.uniform(0, t_max - max_delta_time)\n",
        "    t1 = t0 + np.random.uniform(min_delta_time, max_delta_time)\n",
        "\n",
        "    idx = sorted(np.random.permutation(index_np[(times_np > t0) & (times_np < t1)])[:max_points_num])\n",
        "\n",
        "    obs_ = obs[idx]\n",
        "    ts_ = times[idx]\n",
        "    return obs_, ts_\n",
        "\n",
        "# Train Neural ODE\n",
        "optimizer = torch.optim.Adam(ode_trained.parameters(), lr=0.01)\n"
      ],
      "execution_count": 0,
      "outputs": [
        {
          "output_type": "stream",
          "text": [
            "C:\\Users\\Gebruiker\\Anaconda3\\lib\\site-packages\\ipykernel_launcher.py:28: UserWarning: To copy construct from a tensor, it is recommended to use sourceTensor.clone().detach() or sourceTensor.clone().detach().requires_grad_(True), rather than torch.tensor(sourceTensor).\n"
          ],
          "name": "stderr"
        }
      ]
    },
    {
      "cell_type": "code",
      "metadata": {
        "id": "xpzCiReaR6nt",
        "colab_type": "code",
        "colab": {}
      },
      "source": [
        "\n",
        "obs_, ts_ = create_batch()\n",
        "\n",
        "z_ = ode_trained(obs_[0], ts_, return_whole_sequence=True)\n"
      ],
      "execution_count": 0,
      "outputs": []
    },
    {
      "cell_type": "code",
      "metadata": {
        "id": "uRQKIoyVR6nw",
        "colab_type": "code",
        "outputId": "64622278-7c4e-4c00-905e-a99ce67a8cf0",
        "colab": {}
      },
      "source": [
        "loss = F.mse_loss(z_, obs_.detach())\n",
        "\n",
        "loss"
      ],
      "execution_count": 0,
      "outputs": [
        {
          "output_type": "execute_result",
          "data": {
            "text/plain": [
              "tensor(0.0175, grad_fn=<MseLossBackward>)"
            ]
          },
          "metadata": {
            "tags": []
          },
          "execution_count": 79
        }
      ]
    },
    {
      "cell_type": "code",
      "metadata": {
        "id": "-qOyGdQxR6nz",
        "colab_type": "code",
        "colab": {}
      },
      "source": [
        "optimizer.zero_grad()"
      ],
      "execution_count": 0,
      "outputs": []
    },
    {
      "cell_type": "code",
      "metadata": {
        "id": "4le5OQkVR6n1",
        "colab_type": "code",
        "colab": {}
      },
      "source": [
        "loss.backward(retain_graph=True)\n",
        "\n"
      ],
      "execution_count": 0,
      "outputs": []
    },
    {
      "cell_type": "code",
      "metadata": {
        "id": "KoPvQVQTR6n5",
        "colab_type": "code",
        "outputId": "3493677e-d5bf-4436-8a87-596b3383a614",
        "colab": {}
      },
      "source": [
        "print(ode_trained.weight.grad[0,0])"
      ],
      "execution_count": 0,
      "outputs": [
        {
          "output_type": "error",
          "ename": "AttributeError",
          "evalue": "'NeuralODE' object has no attribute 'weight'",
          "traceback": [
            "\u001b[1;31m---------------------------------------------------------------------------\u001b[0m",
            "\u001b[1;31mAttributeError\u001b[0m                            Traceback (most recent call last)",
            "\u001b[1;32m<ipython-input-82-172bcc3df14f>\u001b[0m in \u001b[0;36m<module>\u001b[1;34m\u001b[0m\n\u001b[1;32m----> 1\u001b[1;33m \u001b[0mprint\u001b[0m\u001b[1;33m(\u001b[0m\u001b[0mode_trained\u001b[0m\u001b[1;33m.\u001b[0m\u001b[0mweight\u001b[0m\u001b[1;33m.\u001b[0m\u001b[0mgrad\u001b[0m\u001b[1;33m[\u001b[0m\u001b[1;36m0\u001b[0m\u001b[1;33m,\u001b[0m\u001b[1;36m0\u001b[0m\u001b[1;33m]\u001b[0m\u001b[1;33m)\u001b[0m\u001b[1;33m\u001b[0m\u001b[1;33m\u001b[0m\u001b[0m\n\u001b[0m",
            "\u001b[1;32m~\\Anaconda3\\lib\\site-packages\\torch\\nn\\modules\\module.py\u001b[0m in \u001b[0;36m__getattr__\u001b[1;34m(self, name)\u001b[0m\n\u001b[0;32m    589\u001b[0m                 \u001b[1;32mreturn\u001b[0m \u001b[0mmodules\u001b[0m\u001b[1;33m[\u001b[0m\u001b[0mname\u001b[0m\u001b[1;33m]\u001b[0m\u001b[1;33m\u001b[0m\u001b[1;33m\u001b[0m\u001b[0m\n\u001b[0;32m    590\u001b[0m         raise AttributeError(\"'{}' object has no attribute '{}'\".format(\n\u001b[1;32m--> 591\u001b[1;33m             type(self).__name__, name))\n\u001b[0m\u001b[0;32m    592\u001b[0m \u001b[1;33m\u001b[0m\u001b[0m\n\u001b[0;32m    593\u001b[0m     \u001b[1;32mdef\u001b[0m \u001b[0m__setattr__\u001b[0m\u001b[1;33m(\u001b[0m\u001b[0mself\u001b[0m\u001b[1;33m,\u001b[0m \u001b[0mname\u001b[0m\u001b[1;33m,\u001b[0m \u001b[0mvalue\u001b[0m\u001b[1;33m)\u001b[0m\u001b[1;33m:\u001b[0m\u001b[1;33m\u001b[0m\u001b[1;33m\u001b[0m\u001b[0m\n",
            "\u001b[1;31mAttributeError\u001b[0m: 'NeuralODE' object has no attribute 'weight'"
          ]
        }
      ]
    },
    {
      "cell_type": "code",
      "metadata": {
        "id": "Q3RWsj3nR6n9",
        "colab_type": "code",
        "outputId": "c2b801bc-d271-40af-aae8-c0c1e6758568",
        "colab": {}
      },
      "source": [
        "for param in ode_trained.parameters():\n",
        "    print(param.data[1,0])"
      ],
      "execution_count": 0,
      "outputs": [
        {
          "output_type": "stream",
          "text": [
            "tensor(-0.0296)\n",
            "tensor(-0.0300)\n"
          ],
          "name": "stdout"
        }
      ]
    },
    {
      "cell_type": "code",
      "metadata": {
        "id": "2BkK14fUR6n_",
        "colab_type": "code",
        "outputId": "c94c52d3-7bc2-49bd-efd9-c5c62676594f",
        "colab": {}
      },
      "source": [
        "for param in ode_trained.parameters():\n",
        "  print(param.grad.data)"
      ],
      "execution_count": 0,
      "outputs": [
        {
          "output_type": "stream",
          "text": [
            "tensor([[ 0.0000e+00,  6.5048e-04,  1.8500e-03, -3.9770e-07],\n",
            "        [-9.9796e-04, -1.1483e-03, -3.2694e-03,  7.4242e-07],\n",
            "        [-4.7493e-04, -5.4656e-04, -1.5539e-03,  3.2890e-07],\n",
            "        [ 1.0555e-03,  1.2145e-03,  3.4583e-03, -7.8898e-07]])\n",
            "tensor([[ 0.0000e+00,  1.0203e-03,  8.8595e-04,  9.7521e-04],\n",
            "        [-1.6675e-03, -1.8327e-03, -1.5890e-03, -1.7488e-03],\n",
            "        [-7.7041e-05, -8.4650e-05, -7.3715e-05, -8.1167e-05],\n",
            "        [-1.7392e-04, -1.9111e-04, -1.6622e-04, -1.8300e-04]])\n"
          ],
          "name": "stdout"
        }
      ]
    },
    {
      "cell_type": "code",
      "metadata": {
        "id": "3rPvwZpTR6oC",
        "colab_type": "code",
        "outputId": "0aca0fcf-f04e-45d6-d762-234a92230fd4",
        "colab": {}
      },
      "source": [
        "with torch.no_grad():\n",
        "    print(ode_trained.parameters()[0,0])\n"
      ],
      "execution_count": 0,
      "outputs": [
        {
          "output_type": "error",
          "ename": "TypeError",
          "evalue": "'generator' object is not subscriptable",
          "traceback": [
            "\u001b[1;31m---------------------------------------------------------------------------\u001b[0m",
            "\u001b[1;31mTypeError\u001b[0m                                 Traceback (most recent call last)",
            "\u001b[1;32m<ipython-input-108-c6ddde474887>\u001b[0m in \u001b[0;36m<module>\u001b[1;34m\u001b[0m\n\u001b[0;32m      1\u001b[0m \u001b[1;32mwith\u001b[0m \u001b[0mtorch\u001b[0m\u001b[1;33m.\u001b[0m\u001b[0mno_grad\u001b[0m\u001b[1;33m(\u001b[0m\u001b[1;33m)\u001b[0m\u001b[1;33m:\u001b[0m\u001b[1;33m\u001b[0m\u001b[1;33m\u001b[0m\u001b[0m\n\u001b[1;32m----> 2\u001b[1;33m     \u001b[0mprint\u001b[0m\u001b[1;33m(\u001b[0m\u001b[0mode_trained\u001b[0m\u001b[1;33m.\u001b[0m\u001b[0mparameters\u001b[0m\u001b[1;33m(\u001b[0m\u001b[1;33m)\u001b[0m\u001b[1;33m[\u001b[0m\u001b[1;36m0\u001b[0m\u001b[1;33m,\u001b[0m\u001b[1;36m0\u001b[0m\u001b[1;33m]\u001b[0m\u001b[1;33m)\u001b[0m\u001b[1;33m\u001b[0m\u001b[1;33m\u001b[0m\u001b[0m\n\u001b[0m",
            "\u001b[1;31mTypeError\u001b[0m: 'generator' object is not subscriptable"
          ]
        }
      ]
    },
    {
      "cell_type": "code",
      "metadata": {
        "id": "a3uHMSTTR6oE",
        "colab_type": "code",
        "outputId": "6ee1adf7-4b1c-409a-cd2c-13c1e833264e",
        "colab": {}
      },
      "source": [
        "loss"
      ],
      "execution_count": 0,
      "outputs": [
        {
          "output_type": "execute_result",
          "data": {
            "text/plain": [
              "tensor(0.0164, grad_fn=<MseLossBackward>)"
            ]
          },
          "metadata": {
            "tags": []
          },
          "execution_count": 22
        }
      ]
    },
    {
      "cell_type": "code",
      "metadata": {
        "id": "XXrIzRpBR6oG",
        "colab_type": "code",
        "outputId": "bac5943b-ef02-4786-8c37-80ece7e229ec",
        "colab": {}
      },
      "source": [
        "import torch\n",
        "import torch.nn as nn\n",
        "import torch.optim as optim\n",
        "\n",
        "n_dim = 5\n",
        "\n",
        "p1 = nn.Linear(n_dim, 1)\n",
        "p2 = nn.Linear(n_dim, 1)\n",
        "\n",
        "optimizer = optim.Adam(list(p1.parameters())+list(p2.parameters()))\n",
        "\n",
        "for i in range(4):\n",
        "    dummy_loss = (p1(torch.rand(n_dim)) + p2(torch.rand(n_dim))).squeeze()\n",
        "    optimizer.zero_grad()\n",
        "    dummy_loss.backward()\n",
        "    p1.weight.grad[:, 1:10, :, :] = 0\n",
        "    optimizer.step()\n",
        "    print('p1: requires_grad =', p1.weight.requires_grad, ', gradient:', p1.weight.grad)\n",
        "    print('p2: requires_grad =', p2.weight.requires_grad, ', gradient:', p2.weight.grad)\n",
        "    print()\n",
        "\n",
        "    if i == 1:\n",
        "        p1.weight.requires_grad = False\n",
        "        p2.weight.requires_grad = True"
      ],
      "execution_count": 0,
      "outputs": [
        {
          "output_type": "error",
          "ename": "IndexError",
          "evalue": "too many indices for tensor of dimension 2",
          "traceback": [
            "\u001b[1;31m---------------------------------------------------------------------------\u001b[0m",
            "\u001b[1;31mIndexError\u001b[0m                                Traceback (most recent call last)",
            "\u001b[1;32m<ipython-input-71-30329f95a41e>\u001b[0m in \u001b[0;36m<module>\u001b[1;34m\u001b[0m\n\u001b[0;32m     14\u001b[0m     \u001b[0moptimizer\u001b[0m\u001b[1;33m.\u001b[0m\u001b[0mzero_grad\u001b[0m\u001b[1;33m(\u001b[0m\u001b[1;33m)\u001b[0m\u001b[1;33m\u001b[0m\u001b[1;33m\u001b[0m\u001b[0m\n\u001b[0;32m     15\u001b[0m     \u001b[0mdummy_loss\u001b[0m\u001b[1;33m.\u001b[0m\u001b[0mbackward\u001b[0m\u001b[1;33m(\u001b[0m\u001b[1;33m)\u001b[0m\u001b[1;33m\u001b[0m\u001b[1;33m\u001b[0m\u001b[0m\n\u001b[1;32m---> 16\u001b[1;33m     \u001b[0mp1\u001b[0m\u001b[1;33m.\u001b[0m\u001b[0mweight\u001b[0m\u001b[1;33m.\u001b[0m\u001b[0mgrad\u001b[0m\u001b[1;33m[\u001b[0m\u001b[1;33m:\u001b[0m\u001b[1;33m,\u001b[0m \u001b[1;36m1\u001b[0m\u001b[1;33m:\u001b[0m\u001b[1;36m10\u001b[0m\u001b[1;33m,\u001b[0m \u001b[1;33m:\u001b[0m\u001b[1;33m,\u001b[0m \u001b[1;33m:\u001b[0m\u001b[1;33m]\u001b[0m \u001b[1;33m=\u001b[0m \u001b[1;36m0\u001b[0m\u001b[1;33m\u001b[0m\u001b[1;33m\u001b[0m\u001b[0m\n\u001b[0m\u001b[0;32m     17\u001b[0m     \u001b[0moptimizer\u001b[0m\u001b[1;33m.\u001b[0m\u001b[0mstep\u001b[0m\u001b[1;33m(\u001b[0m\u001b[1;33m)\u001b[0m\u001b[1;33m\u001b[0m\u001b[1;33m\u001b[0m\u001b[0m\n\u001b[0;32m     18\u001b[0m     \u001b[0mprint\u001b[0m\u001b[1;33m(\u001b[0m\u001b[1;34m'p1: requires_grad ='\u001b[0m\u001b[1;33m,\u001b[0m \u001b[0mp1\u001b[0m\u001b[1;33m.\u001b[0m\u001b[0mweight\u001b[0m\u001b[1;33m.\u001b[0m\u001b[0mrequires_grad\u001b[0m\u001b[1;33m,\u001b[0m \u001b[1;34m', gradient:'\u001b[0m\u001b[1;33m,\u001b[0m \u001b[0mp1\u001b[0m\u001b[1;33m.\u001b[0m\u001b[0mweight\u001b[0m\u001b[1;33m.\u001b[0m\u001b[0mgrad\u001b[0m\u001b[1;33m)\u001b[0m\u001b[1;33m\u001b[0m\u001b[1;33m\u001b[0m\u001b[0m\n",
            "\u001b[1;31mIndexError\u001b[0m: too many indices for tensor of dimension 2"
          ]
        }
      ]
    },
    {
      "cell_type": "code",
      "metadata": {
        "id": "zidGPqKLR6oI",
        "colab_type": "code",
        "outputId": "4f84be75-48ce-43e4-fa67-0b54a3d8207e",
        "colab": {}
      },
      "source": [
        "p1.weight.grad[:, 0]"
      ],
      "execution_count": 0,
      "outputs": [
        {
          "output_type": "execute_result",
          "data": {
            "text/plain": [
              "tensor([0.])"
            ]
          },
          "metadata": {
            "tags": []
          },
          "execution_count": 77
        }
      ]
    },
    {
      "cell_type": "code",
      "metadata": {
        "id": "HTQUtSIgR6oL",
        "colab_type": "code",
        "outputId": "5ba6cf92-a72e-4e87-e5a5-ea5ce9b5de78",
        "colab": {}
      },
      "source": [
        "p2.weight[0,0]"
      ],
      "execution_count": 0,
      "outputs": [
        {
          "output_type": "execute_result",
          "data": {
            "text/plain": [
              "tensor(-0.4472, grad_fn=<SelectBackward>)"
            ]
          },
          "metadata": {
            "tags": []
          },
          "execution_count": 68
        }
      ]
    },
    {
      "cell_type": "code",
      "metadata": {
        "id": "lNOSmabcR6oS",
        "colab_type": "code",
        "outputId": "fbc28dbb-d430-4200-ddcc-5038054ad3fe",
        "colab": {}
      },
      "source": [
        "p2.weight[0]"
      ],
      "execution_count": 0,
      "outputs": [
        {
          "output_type": "execute_result",
          "data": {
            "text/plain": [
              "tensor([-0.4472, -0.1985, -0.1573,  0.1757, -0.3505], grad_fn=<SelectBackward>)"
            ]
          },
          "metadata": {
            "tags": []
          },
          "execution_count": 67
        }
      ]
    },
    {
      "cell_type": "code",
      "metadata": {
        "id": "zrybSgRYR6oX",
        "colab_type": "code",
        "colab": {}
      },
      "source": [
        ""
      ],
      "execution_count": 0,
      "outputs": []
    }
  ]
}